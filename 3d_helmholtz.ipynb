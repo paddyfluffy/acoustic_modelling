{
 "cells": [
  {
   "cell_type": "code",
   "execution_count": 6,
   "id": "8af04b04-3116-4f28-9887-d6ae0b40fe34",
   "metadata": {},
   "outputs": [],
   "source": [
    "import numpy as np\n",
    "import ufl\n",
    "from dolfinx import geometry\n",
    "from dolfinx.fem import Function, FunctionSpace, assemble_scalar, form, Constant\n",
    "from dolfinx.fem.petsc import LinearProblem\n",
    "from dolfinx.io import XDMFFile\n",
    "from dolfinx.mesh import create_unit_square\n",
    "from ufl import dx, grad, inner\n",
    "from mpi4py import MPI\n",
    "from petsc4py import PETSc"
   ]
  },
  {
   "cell_type": "code",
   "execution_count": 4,
   "id": "08d14d19-8e39-4957-85a4-b5e9d7c651d0",
   "metadata": {},
   "outputs": [
    {
     "name": "stderr",
     "output_type": "stream",
     "text": [
      "Error   : Unable to open file 'room.msh'\n"
     ]
    },
    {
     "ename": "Exception",
     "evalue": "Unable to open file 'room.msh'",
     "output_type": "error",
     "traceback": [
      "\u001b[0;31m---------------------------------------------------------------------------\u001b[0m",
      "\u001b[0;31mException\u001b[0m                                 Traceback (most recent call last)",
      "Cell \u001b[0;32mIn[4], line 2\u001b[0m\n\u001b[1;32m      1\u001b[0m \u001b[38;5;28;01mfrom\u001b[39;00m \u001b[38;5;21;01mdolfinx\u001b[39;00m\u001b[38;5;21;01m.\u001b[39;00m\u001b[38;5;21;01mio\u001b[39;00m \u001b[38;5;28;01mimport\u001b[39;00m gmshio\n\u001b[0;32m----> 2\u001b[0m msh, cell_tags, facet_tags \u001b[38;5;241m=\u001b[39m \u001b[43mgmshio\u001b[49m\u001b[38;5;241;43m.\u001b[39;49m\u001b[43mread_from_msh\u001b[49m\u001b[43m(\u001b[49m\u001b[38;5;124;43m\"\u001b[39;49m\u001b[38;5;124;43mroom.msh\u001b[39;49m\u001b[38;5;124;43m\"\u001b[39;49m\u001b[43m,\u001b[49m\u001b[43m \u001b[49m\u001b[43mMPI\u001b[49m\u001b[38;5;241;43m.\u001b[39;49m\u001b[43mCOMM_SELF\u001b[49m\u001b[43m,\u001b[49m\u001b[43m \u001b[49m\u001b[38;5;241;43m0\u001b[39;49m\u001b[43m,\u001b[49m\u001b[43m \u001b[49m\u001b[43mgdim\u001b[49m\u001b[38;5;241;43m=\u001b[39;49m\u001b[38;5;241;43m3\u001b[39;49m\u001b[43m)\u001b[49m\n",
      "File \u001b[0;32m/usr/local/dolfinx-complex/lib/python3.10/dist-packages/dolfinx/io/gmshio.py:307\u001b[0m, in \u001b[0;36mread_from_msh\u001b[0;34m(filename, comm, rank, gdim, partitioner)\u001b[0m\n\u001b[1;32m    305\u001b[0m     gmsh\u001b[38;5;241m.\u001b[39minitialize()\n\u001b[1;32m    306\u001b[0m     gmsh\u001b[38;5;241m.\u001b[39mmodel\u001b[38;5;241m.\u001b[39madd(\u001b[38;5;124m\"\u001b[39m\u001b[38;5;124mMesh from file\u001b[39m\u001b[38;5;124m\"\u001b[39m)\n\u001b[0;32m--> 307\u001b[0m     \u001b[43mgmsh\u001b[49m\u001b[38;5;241;43m.\u001b[39;49m\u001b[43mmerge\u001b[49m\u001b[43m(\u001b[49m\u001b[43mfilename\u001b[49m\u001b[43m)\u001b[49m\n\u001b[1;32m    309\u001b[0m output \u001b[38;5;241m=\u001b[39m model_to_mesh(gmsh\u001b[38;5;241m.\u001b[39mmodel, comm, rank, gdim\u001b[38;5;241m=\u001b[39mgdim, partitioner\u001b[38;5;241m=\u001b[39mpartitioner)\n\u001b[1;32m    311\u001b[0m \u001b[38;5;28;01mif\u001b[39;00m comm\u001b[38;5;241m.\u001b[39mrank \u001b[38;5;241m==\u001b[39m rank:\n",
      "File \u001b[0;32m/usr/local/lib/gmsh.py:321\u001b[0m, in \u001b[0;36mmerge\u001b[0;34m(fileName)\u001b[0m\n\u001b[1;32m    317\u001b[0m lib\u001b[38;5;241m.\u001b[39mgmshMerge(\n\u001b[1;32m    318\u001b[0m     c_char_p(fileName\u001b[38;5;241m.\u001b[39mencode()),\n\u001b[1;32m    319\u001b[0m     byref(ierr))\n\u001b[1;32m    320\u001b[0m \u001b[38;5;28;01mif\u001b[39;00m ierr\u001b[38;5;241m.\u001b[39mvalue \u001b[38;5;241m!=\u001b[39m \u001b[38;5;241m0\u001b[39m:\n\u001b[0;32m--> 321\u001b[0m     \u001b[38;5;28;01mraise\u001b[39;00m \u001b[38;5;167;01mException\u001b[39;00m(logger\u001b[38;5;241m.\u001b[39mgetLastError())\n",
      "\u001b[0;31mException\u001b[0m: Unable to open file 'room.msh'"
     ]
    }
   ],
   "source": [
    "import cadquery as cq\n",
    "from dolfinx.io import gmshio\n",
    "\n",
    "\n",
    "msh, cell_tags, facet_tags = gmshio.read_from_msh(\"room.msh\", MPI.COMM_SELF, 0, gdim=3)"
   ]
  },
  {
   "cell_type": "code",
   "execution_count": null,
   "id": "69ff592a-65f0-4ca6-8e33-cccac1a81a7c",
   "metadata": {},
   "outputs": [],
   "source": []
  },
  {
   "cell_type": "code",
   "execution_count": null,
   "id": "a5496893-2a55-48cd-9872-380500a2d0a9",
   "metadata": {},
   "outputs": [],
   "source": []
  }
 ],
 "metadata": {
  "kernelspec": {
   "display_name": "Python 3 (DOLFINx complex)",
   "language": "python",
   "name": "python3-complex"
  },
  "language_info": {
   "codemirror_mode": {
    "name": "ipython",
    "version": 3
   },
   "file_extension": ".py",
   "mimetype": "text/x-python",
   "name": "python",
   "nbconvert_exporter": "python",
   "pygments_lexer": "ipython3",
   "version": "3.10.6"
  }
 },
 "nbformat": 4,
 "nbformat_minor": 5
}
