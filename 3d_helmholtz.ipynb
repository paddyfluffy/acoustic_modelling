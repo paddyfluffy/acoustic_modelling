{
 "cells": [
  {
   "cell_type": "code",
   "execution_count": 1,
   "id": "8af04b04-3116-4f28-9887-d6ae0b40fe34",
   "metadata": {},
   "outputs": [],
   "source": [
    "import numpy as np\n",
    "import ufl\n",
    "from dolfinx import geometry\n",
    "from dolfinx.fem import Function, FunctionSpace, assemble_scalar, form, Constant\n",
    "from dolfinx.fem.petsc import LinearProblem\n",
    "from dolfinx.io import XDMFFile\n",
    "from dolfinx.mesh import create_unit_square\n",
    "from ufl import dx, grad, inner\n",
    "from mpi4py import MPI\n",
    "from petsc4py import PETSc"
   ]
  },
  {
   "cell_type": "code",
   "execution_count": 2,
   "id": "80cdfa62-9c90-4fab-886b-80d5b3446ca9",
   "metadata": {},
   "outputs": [],
   "source": [
    "import gmsh\n",
    "\n",
    "# Initialize Gmsh\n",
    "gmsh.initialize()"
   ]
  },
  {
   "cell_type": "code",
   "execution_count": 3,
   "id": "08d14d19-8e39-4957-85a4-b5e9d7c651d0",
   "metadata": {},
   "outputs": [
    {
     "name": "stdout",
     "output_type": "stream",
     "text": [
      "Info    : Meshing 1D...\n",
      "Info    : Done meshing 1D (Wall 1.0257e-05s, CPU 1e-05s)\n",
      "Info    : Meshing 2D...\n",
      "Info    : Done meshing 2D (Wall 0.00111525s, CPU 7.9e-05s)\n",
      "Info    : Meshing 3D...\n",
      "Info    : Done meshing 3D (Wall 0.00127304s, CPU 7.6e-05s)\n",
      "Info    : 0 nodes 0 elements\n",
      "Info    : Writing 'box_mesh.msh'...\n",
      "Info    : Done writing 'box_mesh.msh'\n"
     ]
    },
    {
     "name": "stderr",
     "output_type": "stream",
     "text": [
      "Warning : Unknown entity of dimension 3 and tag 1 in physical group 1\n"
     ]
    }
   ],
   "source": [
    "# Create a new model\n",
    "gmsh.model.add(\"box_model\")\n",
    "\n",
    "# Create a box mesh\n",
    "Lx = 1.5 * 10\n",
    "Ly = 1.0 * 10\n",
    "Lz = 0.8 * 10\n",
    "mesh_size = 0.017 * 10  # 17mm\n",
    "\n",
    "# Create the box using addBox function\n",
    "box_tag = gmsh.model.occ.addBox(0, 0, 0, Lx, Ly, Lz)\n",
    "\n",
    "# Define physical groups for faces and volume\n",
    "gmsh.model.addPhysicalGroup(3, [box_tag])\n",
    "\n",
    "# Set the characteristic length for meshing\n",
    "gmsh.option.setNumber(\"Mesh.CharacteristicLengthMax\", mesh_size)\n",
    "\n",
    "# Generate the mesh\n",
    "gmsh.model.mesh.generate(3)\n",
    "\n",
    "# Save the mesh to a file\n",
    "gmsh.write(\"box_mesh.msh\")\n",
    "\n",
    "# Finalize Gmsh\n",
    "gmsh.finalize()\n"
   ]
  },
  {
   "cell_type": "code",
   "execution_count": 12,
   "id": "69ff592a-65f0-4ca6-8e33-cccac1a81a7c",
   "metadata": {},
   "outputs": [
    {
     "name": "stdout",
     "output_type": "stream",
     "text": [
      "Info    : Reading 'room_mesh.msh'...\n",
      "Info    : 0 entity\n",
      "Info    : Done reading 'room_mesh.msh'\n"
     ]
    },
    {
     "ename": "IndexError",
     "evalue": "index -1 is out of bounds for axis 0 with size 0",
     "output_type": "error",
     "traceback": [
      "\u001b[0;31m---------------------------------------------------------------------------\u001b[0m",
      "\u001b[0;31mIndexError\u001b[0m                                Traceback (most recent call last)",
      "Cell \u001b[0;32mIn[12], line 2\u001b[0m\n\u001b[1;32m      1\u001b[0m \u001b[38;5;28;01mfrom\u001b[39;00m \u001b[38;5;21;01mdolfinx\u001b[39;00m\u001b[38;5;21;01m.\u001b[39;00m\u001b[38;5;21;01mio\u001b[39;00m \u001b[38;5;28;01mimport\u001b[39;00m gmshio\n\u001b[0;32m----> 2\u001b[0m msh, cell_tags, facet_tags \u001b[38;5;241m=\u001b[39m \u001b[43mgmshio\u001b[49m\u001b[38;5;241;43m.\u001b[39;49m\u001b[43mread_from_msh\u001b[49m\u001b[43m(\u001b[49m\u001b[38;5;124;43m\"\u001b[39;49m\u001b[38;5;124;43mroom_mesh.msh\u001b[39;49m\u001b[38;5;124;43m\"\u001b[39;49m\u001b[43m,\u001b[49m\u001b[43m \u001b[49m\u001b[43mMPI\u001b[49m\u001b[38;5;241;43m.\u001b[39;49m\u001b[43mCOMM_SELF\u001b[49m\u001b[43m,\u001b[49m\u001b[43m \u001b[49m\u001b[38;5;241;43m0\u001b[39;49m\u001b[43m,\u001b[49m\u001b[43m \u001b[49m\u001b[43mgdim\u001b[49m\u001b[38;5;241;43m=\u001b[39;49m\u001b[38;5;241;43m3\u001b[39;49m\u001b[43m)\u001b[49m\n",
      "File \u001b[0;32m/usr/local/dolfinx-complex/lib/python3.10/dist-packages/dolfinx/io/gmshio.py:309\u001b[0m, in \u001b[0;36mread_from_msh\u001b[0;34m(filename, comm, rank, gdim, partitioner)\u001b[0m\n\u001b[1;32m    306\u001b[0m     gmsh\u001b[38;5;241m.\u001b[39mmodel\u001b[38;5;241m.\u001b[39madd(\u001b[38;5;124m\"\u001b[39m\u001b[38;5;124mMesh from file\u001b[39m\u001b[38;5;124m\"\u001b[39m)\n\u001b[1;32m    307\u001b[0m     gmsh\u001b[38;5;241m.\u001b[39mmerge(filename)\n\u001b[0;32m--> 309\u001b[0m output \u001b[38;5;241m=\u001b[39m \u001b[43mmodel_to_mesh\u001b[49m\u001b[43m(\u001b[49m\u001b[43mgmsh\u001b[49m\u001b[38;5;241;43m.\u001b[39;49m\u001b[43mmodel\u001b[49m\u001b[43m,\u001b[49m\u001b[43m \u001b[49m\u001b[43mcomm\u001b[49m\u001b[43m,\u001b[49m\u001b[43m \u001b[49m\u001b[43mrank\u001b[49m\u001b[43m,\u001b[49m\u001b[43m \u001b[49m\u001b[43mgdim\u001b[49m\u001b[38;5;241;43m=\u001b[39;49m\u001b[43mgdim\u001b[49m\u001b[43m,\u001b[49m\u001b[43m \u001b[49m\u001b[43mpartitioner\u001b[49m\u001b[38;5;241;43m=\u001b[39;49m\u001b[43mpartitioner\u001b[49m\u001b[43m)\u001b[49m\n\u001b[1;32m    311\u001b[0m \u001b[38;5;28;01mif\u001b[39;00m comm\u001b[38;5;241m.\u001b[39mrank \u001b[38;5;241m==\u001b[39m rank:\n\u001b[1;32m    312\u001b[0m     gmsh\u001b[38;5;241m.\u001b[39mfinalize()\n",
      "File \u001b[0;32m/usr/local/dolfinx-complex/lib/python3.10/dist-packages/dolfinx/io/gmshio.py:216\u001b[0m, in \u001b[0;36mmodel_to_mesh\u001b[0;34m(model, comm, rank, gdim, partitioner)\u001b[0m\n\u001b[1;32m    213\u001b[0m perm_sort \u001b[38;5;241m=\u001b[39m np\u001b[38;5;241m.\u001b[39margsort(cell_dimensions)\n\u001b[1;32m    215\u001b[0m \u001b[38;5;66;03m# Broadcast cell type data and geometric dimension\u001b[39;00m\n\u001b[0;32m--> 216\u001b[0m cell_id \u001b[38;5;241m=\u001b[39m cell_information[\u001b[43mperm_sort\u001b[49m\u001b[43m[\u001b[49m\u001b[38;5;241;43m-\u001b[39;49m\u001b[38;5;241;43m1\u001b[39;49m\u001b[43m]\u001b[49m][\u001b[38;5;124m\"\u001b[39m\u001b[38;5;124mid\u001b[39m\u001b[38;5;124m\"\u001b[39m]\n\u001b[1;32m    217\u001b[0m tdim \u001b[38;5;241m=\u001b[39m cell_information[perm_sort[\u001b[38;5;241m-\u001b[39m\u001b[38;5;241m1\u001b[39m]][\u001b[38;5;124m\"\u001b[39m\u001b[38;5;124mdim\u001b[39m\u001b[38;5;124m\"\u001b[39m]\n\u001b[1;32m    218\u001b[0m num_nodes \u001b[38;5;241m=\u001b[39m cell_information[perm_sort[\u001b[38;5;241m-\u001b[39m\u001b[38;5;241m1\u001b[39m]][\u001b[38;5;124m\"\u001b[39m\u001b[38;5;124mnum_nodes\u001b[39m\u001b[38;5;124m\"\u001b[39m]\n",
      "\u001b[0;31mIndexError\u001b[0m: index -1 is out of bounds for axis 0 with size 0"
     ]
    }
   ],
   "source": [
    "from dolfinx.io import gmshio\n",
    "msh, cell_tags, facet_tags = gmshio.read_from_msh(\"room_mesh.msh\", MPI.COMM_SELF, 0, gdim=3)\n"
   ]
  },
  {
   "cell_type": "code",
   "execution_count": null,
   "id": "a5496893-2a55-48cd-9872-380500a2d0a9",
   "metadata": {},
   "outputs": [],
   "source": []
  }
 ],
 "metadata": {
  "kernelspec": {
   "display_name": "Python 3 (DOLFINx complex)",
   "language": "python",
   "name": "python3-complex"
  },
  "language_info": {
   "codemirror_mode": {
    "name": "ipython",
    "version": 3
   },
   "file_extension": ".py",
   "mimetype": "text/x-python",
   "name": "python",
   "nbconvert_exporter": "python",
   "pygments_lexer": "ipython3",
   "version": "3.10.6"
  }
 },
 "nbformat": 4,
 "nbformat_minor": 5
}
