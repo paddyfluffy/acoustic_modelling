{
 "cells": [
  {
   "cell_type": "code",
   "execution_count": 6,
   "id": "8af04b04-3116-4f28-9887-d6ae0b40fe34",
   "metadata": {},
   "outputs": [],
   "source": [
    "import numpy as np\n",
    "import os\n",
    "import ufl\n",
    "import dolfinx\n",
    "from dolfinx import geometry\n",
    "from dolfinx.fem import Function, FunctionSpace, assemble_scalar, form, Constant, Expression\n",
    "from dolfinx import geometry\n",
    "from dolfinx.fem.petsc import LinearProblem\n",
    "from dolfinx.io import XDMFFile, VTKFile\n",
    "from dolfinx.mesh import create_unit_square\n",
    "from ufl import dx, grad, inner\n",
    "from mpi4py import MPI\n",
    "from petsc4py import PETSc\n",
    "from dolfinx.io import gmshio\n",
    "import matplotlib.pyplot as plt"
   ]
  },
  {
   "cell_type": "code",
   "execution_count": 7,
   "id": "80cdfa62-9c90-4fab-886b-80d5b3446ca9",
   "metadata": {},
   "outputs": [],
   "source": [
    "import gmsh\n",
    "\n",
    "# Initialize Gmsh\n",
    "# gmsh.initialize()"
   ]
  },
  {
   "cell_type": "code",
   "execution_count": 3,
   "id": "69ff592a-65f0-4ca6-8e33-cccac1a81a7c",
   "metadata": {},
   "outputs": [],
   "source": [
    "#from dolfinx.io import gmshio\n",
    "\n",
    "#path = os.path.join(\"results\", \"room_mesh_test.msh\")\n",
    "#msh, cell_tags, facet_tags = gmshio.read_from_msh(\"results/\" +\"room_mesh_test.msh\", MPI.COMM_SELF, 0, gdim=3)\n"
   ]
  },
  {
   "cell_type": "code",
   "execution_count": 8,
   "id": "ed184855-aa37-40c0-a87a-748d7110f15b",
   "metadata": {},
   "outputs": [],
   "source": [
    "# Choose if Gmsh output is verbose\n",
    "# Set the desired mesh size\n",
    "mesh_size = 0.017  # Replace with your desired mesh size\n",
    "\n",
    "# Initialize the Gmsh model\n",
    "gmsh.initialize()\n",
    "gmsh.option.setNumber(\"Mesh.CharacteristicLengthMin\", mesh_size)\n",
    "gmsh.option.setNumber(\"Mesh.CharacteristicLengthMax\", mesh_size)\n",
    "gmsh.option.setNumber(\"General.Terminal\", 0)\n",
    "\n",
    "model = gmsh.model()\n",
    "model.add(\"room\")\n",
    "model.setCurrent(\"room\")\n",
    "stl_path = os.path.join(\"results\", \"box.step\")\n",
    "room = gmsh.model.occ.importShapes(stl_path, highestDimOnly=False)\n",
    "\n",
    "\n",
    "\n",
    "# Synchronize OpenCascade representation with gmsh model\n",
    "model.occ.synchronize()\n",
    "\n",
    "# Add physical marker for cells. It is important to call this function\n",
    "# after OpenCascade synchronization\n",
    "\n",
    "# Generate the mesh\n",
    "\n",
    "characteristic_length = 0.017  # Desired mesh size\n",
    "gmsh.model.mesh.setSize(gmsh.model.getEntities(2), characteristic_length)\n",
    "model.mesh.generate(dim=3)\n",
    "# model.add_physical_group(dim=3, tags=room)\n",
    "model.addPhysicalGroup(3, [1])\n",
    "\n",
    "# Create a DOLFINx mesh (same mesh on each rank)\n",
    "msh, cell_markers, facet_markers = gmshio.model_to_mesh(model, MPI.COMM_SELF, 0)\n",
    "msh.name = \"room\"\n",
    "cell_markers.name = f\"{msh.name}_cells\"\n",
    "facet_markers.name = f\"{msh.name}_facets\"\n",
    "\n",
    "gmsh.finalize()"
   ]
  },
  {
   "cell_type": "code",
   "execution_count": null,
   "id": "55f4248a-9df9-4730-8540-b7e191cf0fde",
   "metadata": {},
   "outputs": [],
   "source": []
  },
  {
   "cell_type": "code",
   "execution_count": 8,
   "id": "a5496893-2a55-48cd-9872-380500a2d0a9",
   "metadata": {},
   "outputs": [
    {
     "name": "stdout",
     "output_type": "stream",
     "text": [
      "[]\n"
     ]
    }
   ],
   "source": [
    "print(facet_markers.values)"
   ]
  },
  {
   "cell_type": "code",
   "execution_count": 9,
   "id": "ca2ea375-79f1-4b40-a876-7cfa0eb9062a",
   "metadata": {},
   "outputs": [],
   "source": [
    "# mic cell_markerstion\n",
    "Sx = 0.4\n",
    "Sy = -0.3\n",
    "Sz = 0.1"
   ]
  },
  {
   "cell_type": "code",
   "execution_count": 10,
   "id": "2c596404-99fb-4045-bbc1-6fef1da4e5dd",
   "metadata": {},
   "outputs": [],
   "source": [
    "#frequency range definition\n",
    "f_axis = np.arange(50, 2005, 5)\n",
    "\n",
    "#Mic position definition\n",
    "mic = np.array([0.3, 0.3, 0])\n",
    "\n",
    "deg = 3"
   ]
  },
  {
   "cell_type": "code",
   "execution_count": 11,
   "id": "435a71d2-10d8-4e23-9e6b-5d9b8846d3dc",
   "metadata": {},
   "outputs": [],
   "source": [
    "# Test and trial function space\n",
    "V = FunctionSpace(msh, (\"CG\", deg))\n",
    "u = ufl.TrialFunction(V)\n",
    "v = ufl.TestFunction(V)\n",
    "f = Function(V)"
   ]
  },
  {
   "cell_type": "code",
   "execution_count": 12,
   "id": "c40c2a40-4a1e-4f76-ab10-3651a0c11aeb",
   "metadata": {},
   "outputs": [],
   "source": [
    "# Source amplitude\n",
    "Q = 0.0001\n",
    "\n",
    "#Source definition position = (Sx,Sy)\n",
    "Sx = 0.4\n",
    "Sy = -0.3\n",
    "Sz = 0.1\n",
    "\n",
    "#Narrow normalized gauss distribution\n",
    "alfa = 0.015\n",
    "delta_tmp = Function(V)\n",
    "delta_tmp.interpolate(lambda x : 1/(np.abs(alfa)*np.sqrt(np.pi))*np.exp(-(((x[0]-Sx)**2+(x[1]-Sy)**2)/(alfa**2))))\n",
    "# delta_tmp.interpolate(lambda x: 1 / (np.abs(alfa) * np.sqrt(np.pi)) * np.exp(-(((x[0] - Sx) ** 2 + (x[1] - Sy) ** 2 + (x[2] - Sz) ** 2) / (alfa ** 2))))\n",
    "# delta_tmp.interpolate(lambda x: 1 / (np.abs(alfa) * (2 * np.pi) ** (3/2)) * np.exp(-(((x[0] - Sx) ** 2 + (x[1] - Sy) ** 2 + (x[2] - Sz) ** 2) / (2 * alfa ** 2))))\n",
    "\n",
    "int_delta_tmp = assemble_scalar(form(delta_tmp*dx)) #form() l'ho scoperto per sbaglio. Senza esplode.\n",
    "delta = delta_tmp/int_delta_tmp"
   ]
  },
  {
   "cell_type": "code",
   "execution_count": 13,
   "id": "34c59151-97af-4c5c-9081-9f80a173e2e9",
   "metadata": {},
   "outputs": [],
   "source": [
    "# fluid definition\n",
    "c0 = 340\n",
    "rho_0 = 1.225\n",
    "omega = Constant(msh, PETSc.ScalarType(1))\n",
    "k0 = Constant(msh, PETSc.ScalarType(1))\n",
    "\n",
    "ds = ufl.Measure(\"ds\", domain=msh, subdomain_data=facet_markers)"
   ]
  },
  {
   "cell_type": "code",
   "execution_count": 14,
   "id": "2ce4d526-ff75-4559-bd3a-3603c7ff1215",
   "metadata": {},
   "outputs": [],
   "source": [
    "Z_s = Constant(msh, PETSc.ScalarType(1))\n",
    "\n",
    "#weak form\n",
    "f = 1j*rho_0*omega*Q*delta\n",
    "g = 1j*rho_0*omega/Z_s\n",
    "a = inner(grad(u), grad(v)) * dx - k0**2 * inner(u, v) * dx +  g * inner(u , v) * ds(5)\n",
    "L = inner(f, v) * dx\n",
    "\n",
    "# problem\n",
    "uh = Function(V)\n",
    "uh.name = \"u\"\n",
    "problem = LinearProblem(a, L, u=uh, petsc_options={\"ksp_type\": \"preonly\", \"pc_type\": \"lu\"})"
   ]
  },
  {
   "cell_type": "code",
   "execution_count": 11,
   "id": "13be09b8-268c-4690-8772-806451c2cc46",
   "metadata": {},
   "outputs": [
    {
     "name": "stdout",
     "output_type": "stream",
     "text": [
      "<dolfinx.fem.petsc.LinearProblem object at 0x7f22dcef3640>\n"
     ]
    }
   ],
   "source": [
    "print(problem)"
   ]
  },
  {
   "cell_type": "code",
   "execution_count": null,
   "id": "220be93a-2722-4bbd-9bd4-109c80efb29a",
   "metadata": {},
   "outputs": [],
   "source": [
    "omega.value = omega.value =440*2*np.pi\n",
    "k0.value = 2*np.pi*440/c0\n",
    "\n",
    "problem.solve()"
   ]
  },
  {
   "cell_type": "code",
   "execution_count": null,
   "id": "a5a21942-a600-44ee-bc6f-b5b0ae0055df",
   "metadata": {},
   "outputs": [],
   "source": [
    "print(\"starrting..\")\n",
    "\n",
    "omega.value =440*2*np.pi\n",
    "k0.value = 2*np.pi*440/c0\n",
    "print(\"solving problem\")\n",
    "problem.solve()\n",
    "print(\"solved\")\n",
    "t0 = 0.0\n",
    "t1 = 0.5\n",
    "dt = 0.01\n",
    "\n",
    "\n",
    "num_time_steps = int((t1 - t0) / dt)\n",
    "file_name = \"440_hz_box_mesh\"+ \".xdmf\"\n",
    "# vtk_file = VTKFile(MPI.COMM_SELF, file_name, \"w\")\n",
    "subfolder = \"3d_results\"\n",
    "if not os.path.exists(subfolder):\n",
    "    os.makedirs(subfolder)\n",
    "xdmf_file = XDMFFile(MPI.COMM_SELF, os.path.join(subfolder, file_name), \"w\")\n",
    "\n",
    "xdmf_file.write_mesh(msh)\n",
    "\n",
    "\n",
    "for step in range(num_time_steps):\n",
    "    t = t0 + step * dt\n",
    "    print(\"calculating time step: \", t)\n",
    "\n",
    "    # Compute the time-dependent factor exp(iωt)\n",
    "    time_factor_value = np.exp(1j * omega.value * t)\n",
    "\n",
    "    uh_time_function = Function(V)\n",
    "    uh_time_function.vector[:] = uh.vector[:] * time_factor_value\n",
    "\n",
    "    # Compute the time-dependent pressure field\n",
    "    # uh_time = uh.vector[:] * time_factor_value\n",
    "    xdmf_file.write_function(uh_time_function, t)"
   ]
  },
  {
   "cell_type": "code",
   "execution_count": null,
   "id": "a54cf90e-dea2-4901-99db-2f85cd7960c4",
   "metadata": {},
   "outputs": [],
   "source": [
    "p_mic = np.zeros((len(f_axis),1),dtype=complex)\n",
    "# frequency for loop\n",
    "\n",
    "subfolder = \"3d_results\"\n",
    "if not os.path.exists(subfolder):\n",
    "    os.makedirs(subfolder)\n",
    "print(\" \")\n",
    "for nf in range(0,len(f_axis)):\n",
    "    print (\"\\033[A                             \\033[A\")\n",
    "    freq = f_axis[nf]\n",
    "    print(\"Computing frequency: \" + str(freq) + \" Hz...\")  \n",
    "\n",
    "    # Compute solution\n",
    "    omega.value =f_axis[nf]*2*np.pi\n",
    "    k0.value = 2*np.pi*f_axis[nf]/c0\n",
    "    problem.solve()\n",
    "    \n",
    "    \n",
    "    complex(0,1)\n",
    "    \n",
    "    # Define the complex number representing the imaginary unit\n",
    "    imag_unit = complex(0, 1)\n",
    "\n",
    "\n",
    "    # Access the real and imaginary parts of the function values\n",
    "    uh_real_values = uh.vector[:].real\n",
    "    uh_imag_values = uh.vector[:].imag\n",
    "    \n",
    "    # Time loop\n",
    "        \n",
    "    t0 = 0.0\n",
    "    t1 = 0.5\n",
    "    dt = 0.01\n",
    "    num_time_steps = int((t1 - t0) / dt)\n",
    "    file_name = \"time_xdmf\" + str(freq) + \".xdmf\"\n",
    "    # vtk_file = VTKFile(MPI.COMM_SELF, file_name, \"w\")\n",
    "    xdmf_file = XDMFFile(MPI.COMM_SELF, os.path.join(subfolder, file_name), \"w\")\n",
    "    \n",
    "    xdmf_file.write_mesh(msh)\n",
    "\n",
    "    \n",
    "    for step in range(num_time_steps):\n",
    "        t = t0 + step * dt\n",
    "\n",
    "        # Compute the time-dependent factor exp(iωt)\n",
    "        time_factor_value = np.exp(1j * omega.value * t)\n",
    "        \n",
    "        uh_time_function = Function(V)\n",
    "        uh_time_function.vector[:] = uh.vector[:] * time_factor_value\n",
    "        \n",
    "        # Compute the time-dependent pressure field\n",
    "        # uh_time = uh.vector[:] * time_factor_value\n",
    "        xdmf_file.write_function(uh_time_function, t)\n",
    "\n",
    "    print(\"Saved pressure field over time for: {} hz\".format(freq))\n",
    "    xdmf_file.close()\n",
    "\n",
    "        \n",
    "        # xdmf_file.write_function(uh_time, step)\n",
    "    \n",
    "\n",
    "\n",
    "    points = np.zeros((3,1))\n",
    "    points[0][0] = mic[0]\n",
    "    points[1][0] = mic[1]\n",
    "    points[2][0] = mic[2]\n",
    "    bb_tree = geometry.BoundingBoxTree(msh, msh.topology.dim)\n",
    "    cells = []\n",
    "    points_on_proc = []\n",
    "    # Find cells whose bounding-box collide with the the points\n",
    "    cell_candidates = geometry.compute_collisions(bb_tree, points.T)\n",
    "    # Choose one of the cells that contains the point\n",
    "    colliding_cells = geometry.compute_colliding_cells(msh, cell_candidates, points.T)\n",
    "    for i, point in enumerate(points.T):\n",
    "        if len(colliding_cells.links(i))>0:\n",
    "            points_on_proc.append(point)\n",
    "            cells.append(colliding_cells.links(i)[0])\n",
    "    points_on_proc = np.array(points_on_proc, dtype=np.float64)\n",
    "    u_values = uh.eval(points_on_proc, cells)\n",
    "    \n",
    "    \n",
    "    #building of sound pressure vector\n",
    "    p_mic[nf] = u_values\n",
    "    \n",
    "print (\"\\033[A                             \\033[A\")\n",
    "print(\"JOB COMPLETED\")\n",
    "    "
   ]
  },
  {
   "cell_type": "code",
   "execution_count": null,
   "id": "cd375bcc-7187-4f16-8317-84e30d135e1a",
   "metadata": {},
   "outputs": [],
   "source": []
  }
 ],
 "metadata": {
  "kernelspec": {
   "display_name": "Python 3 (DOLFINx complex)",
   "language": "python",
   "name": "python3-complex"
  },
  "language_info": {
   "codemirror_mode": {
    "name": "ipython",
    "version": 3
   },
   "file_extension": ".py",
   "mimetype": "text/x-python",
   "name": "python",
   "nbconvert_exporter": "python",
   "pygments_lexer": "ipython3",
   "version": "3.10.6"
  }
 },
 "nbformat": 4,
 "nbformat_minor": 5
}
