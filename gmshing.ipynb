{
 "cells": [
  {
   "cell_type": "code",
   "execution_count": 4,
   "id": "4744b660-1912-44d3-90f0-2b9bbc8c558d",
   "metadata": {},
   "outputs": [
    {
     "name": "stderr",
     "output_type": "stream",
     "text": [
      "Warning : Gmsh has aleady been initialized\n"
     ]
    }
   ],
   "source": [
    "import sys\n",
    "import os\n",
    "\n",
    "try:\n",
    "    import gmsh\n",
    "except ImportError:\n",
    "    print(\"This demo requires gmsh to be installed\")\n",
    "    sys.exit(0)\n",
    "\n",
    "\n",
    "from dolfinx.io import XDMFFile, gmshio\n",
    "\n",
    "from mpi4py import MPI\n",
    "\n",
    "gmsh.initialize()"
   ]
  },
  {
   "cell_type": "code",
   "execution_count": 5,
   "id": "c2e5e028-4574-444d-bd4a-c41bfade741c",
   "metadata": {},
   "outputs": [
    {
     "name": "stdout",
     "output_type": "stream",
     "text": [
      "Info    : Reading 'results/box.stl'...\n",
      "Info    : Mesh is in binary format\n",
      "Info    : 12 facets in solid 0 STL Exported by Open CASCADE Technology [dev.opencascade.org]\n",
      "Info    : Done reading 'results/box.stl'\n",
      "Volume added\n",
      "Info    : Meshing 1D...\n",
      "Info    : Done meshing 1D (Wall 5.6e-06s, CPU 8e-06s)\n",
      "Info    : Meshing 2D...\n",
      "Info    : Done meshing 2D (Wall 2.3856e-05s, CPU 2.2e-05s)\n",
      "Info    : Meshing 3D...\n",
      "Info    : 3D Meshing 1 volume with 1 connected component\n",
      "Info    : Tetrahedrizing 8 nodes...\n",
      "Info    : Done tetrahedrizing 16 nodes (Wall 0.00133039s, CPU 0.000367s)\n",
      "Info    : Reconstructing mesh...\n",
      "Info    :  - Creating surface mesh\n",
      "Info    :  - Identifying boundary edges\n",
      "Info    :  - Recovering boundary\n",
      "Info    : Done reconstructing mesh (Wall 0.0037549s, CPU 0.000883s)\n",
      "Info    : Found volume 1\n",
      "Info    : It. 0 - 0 nodes created - worst tet radius 0.579617 (nodes removed 0 0)\n",
      "Info    : 3D refinement terminated (8 nodes total):\n",
      "Info    :  - 0 Delaunay cavities modified for star shapeness\n",
      "Info    :  - 0 nodes could not be inserted\n",
      "Info    :  - 6 tetrahedra created in 8.434e-06 sec. (711406 tets/s)\n",
      "Info    : Done meshing 3D (Wall 0.00894683s, CPU 0.001561s)\n",
      "Info    : Optimizing mesh...\n",
      "Info    : Optimizing volume 1\n",
      "Info    : Optimization starts (volume = 1.2) with worst = 0.606092 / average = 0.628355:\n",
      "Info    : 0.00 < quality < 0.10 :         0 elements\n",
      "Info    : 0.10 < quality < 0.20 :         0 elements\n",
      "Info    : 0.20 < quality < 0.30 :         0 elements\n",
      "Info    : 0.30 < quality < 0.40 :         0 elements\n",
      "Info    : 0.40 < quality < 0.50 :         0 elements\n",
      "Info    : 0.50 < quality < 0.60 :         0 elements\n",
      "Info    : 0.60 < quality < 0.70 :         6 elements\n",
      "Info    : 0.70 < quality < 0.80 :         0 elements\n",
      "Info    : 0.80 < quality < 0.90 :         0 elements\n",
      "Info    : 0.90 < quality < 1.00 :         0 elements\n",
      "Info    : No ill-shaped tets in the mesh :-)\n",
      "Info    : 0.00 < quality < 0.10 :         0 elements\n",
      "Info    : 0.10 < quality < 0.20 :         0 elements\n",
      "Info    : 0.20 < quality < 0.30 :         0 elements\n",
      "Info    : 0.30 < quality < 0.40 :         0 elements\n",
      "Info    : 0.40 < quality < 0.50 :         0 elements\n",
      "Info    : 0.50 < quality < 0.60 :         0 elements\n",
      "Info    : 0.60 < quality < 0.70 :         6 elements\n",
      "Info    : 0.70 < quality < 0.80 :         0 elements\n",
      "Info    : 0.80 < quality < 0.90 :         0 elements\n",
      "Info    : 0.90 < quality < 1.00 :         0 elements\n",
      "Info    : Done optimizing mesh (Wall 0.00012831s, CPU 0.000128s)\n",
      "Info    : 8 nodes 18 elements\n",
      "Info    : Writing 'results/room_mesh_test.msh'...\n",
      "Info    : Done writing 'results/room_mesh_test.msh'\n",
      "mesh exported\n"
     ]
    },
    {
     "name": "stderr",
     "output_type": "stream",
     "text": [
      "Warning : Gmsh has aleady been initialized\n"
     ]
    }
   ],
   "source": [
    "gmsh.initialize()\n",
    "gmsh.option.setNumber(\"General.Terminal\", 1)\n",
    "gmsh.option.setNumber(\"Mesh.Algorithm\", 8);\n",
    "gmsh.option.setNumber(\"Mesh.CharacteristicLengthMin\", 1);\n",
    "gmsh.option.setNumber(\"Mesh.CharacteristicLengthMax\", 2);\n",
    "gmsh.option.setNumber(\"Mesh.Optimize\",1)\n",
    "gmsh.option.setNumber(\"Mesh.QualityType\",2);\n",
    "stl_filename = \"box.stl\"\n",
    "path = os.path.join(\"results\", stl_filename)\n",
    "gmsh.merge(path)\n",
    "n = gmsh.model.getDimension()\n",
    "s = gmsh.model.getEntities(n)\n",
    "l = gmsh.model.geo.addSurfaceLoop([s[i][1] for i in range(len(s))])\n",
    "gmsh.model.geo.addVolume([l])\n",
    "print(\"Volume added\")\n",
    "gmsh.model.geo.synchronize()\n",
    "\n",
    "gmsh.model.mesh.generate(3)\n",
    "gmsh.write(os.path.join(\"results\", \"room_mesh_test.msh\"))\n",
    "gmsh.finalize()\n",
    "\n",
    "print(\"mesh exported\")"
   ]
  },
  {
   "cell_type": "code",
   "execution_count": null,
   "id": "f476312a-72f7-4405-bc26-ed5de4f3d1eb",
   "metadata": {},
   "outputs": [],
   "source": []
  }
 ],
 "metadata": {
  "kernelspec": {
   "display_name": "Python 3 (DOLFINx complex)",
   "language": "python",
   "name": "python3-complex"
  },
  "language_info": {
   "codemirror_mode": {
    "name": "ipython",
    "version": 3
   },
   "file_extension": ".py",
   "mimetype": "text/x-python",
   "name": "python",
   "nbconvert_exporter": "python",
   "pygments_lexer": "ipython3",
   "version": "3.10.6"
  }
 },
 "nbformat": 4,
 "nbformat_minor": 5
}
