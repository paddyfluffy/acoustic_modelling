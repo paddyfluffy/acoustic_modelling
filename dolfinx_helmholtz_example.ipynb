{
 "cells": [
  {
   "cell_type": "code",
   "execution_count": 7,
   "id": "8713f30b-205d-480c-b5b4-ce0f73d61f5e",
   "metadata": {},
   "outputs": [],
   "source": [
    "import numpy as np\n",
    "from mpi4py import MPI\n",
    "from dolfinx.mesh import create_unit_square\n",
    "\n",
    "import dolfinx\n",
    "import ufl"
   ]
  },
  {
   "cell_type": "code",
   "execution_count": 2,
   "id": "8e6dc42d-3432-4054-aaa7-9cd4e306dd2a",
   "metadata": {},
   "outputs": [
    {
     "name": "stdout",
     "output_type": "stream",
     "text": [
      "Using <class 'numpy.complex128'>.\n"
     ]
    }
   ],
   "source": [
    "import sys\n",
    "from petsc4py import PETSc\n",
    "\n",
    "if not np.issubdtype(PETSc.ScalarType, np.complexfloating):\n",
    "    print(\"This tutorial requires complex number support\")\n",
    "    sys.exit(0)\n",
    "else:\n",
    "    print(f\"Using {PETSc.ScalarType}.\")"
   ]
  },
  {
   "cell_type": "code",
   "execution_count": 4,
   "id": "64a54d4e-70c4-4d36-8cb2-921b187ba334",
   "metadata": {},
   "outputs": [],
   "source": [
    "# wavenumber in free space (air)\n",
    "k0 = 10 * np.pi\n",
    "\n",
    "# Corresponding wavelength\n",
    "lmbda = 2 * np.pi / k0\n",
    "\n",
    "# Polynomial degree\n",
    "degree = 6\n",
    "\n",
    "# Mesh order\n",
    "mesh_order = 2"
   ]
  },
  {
   "cell_type": "code",
   "execution_count": 11,
   "id": "7e504e16-827d-4942-8e17-b52a76496262",
   "metadata": {},
   "outputs": [],
   "source": [
    "from mpi4py import MPI\n",
    "\n",
    "try:\n",
    "    import gmsh\n",
    "except ModuleNotFoundError:\n",
    "    print(\"This demo requires gmsh to be installed\")\n",
    "    sys.exit(0)\n",
    "\n",
    "\n",
    "def generate_mesh(filename: str, lmbda: int , order: int, verbose:bool=False):\n",
    "    if MPI.COMM_WORLD.rank == 0:\n",
    "\n",
    "        gmsh.initialize()\n",
    "        gmsh.model.add(\"helmholtz_domain\")\n",
    "        gmsh.option.setNumber(\"General.Terminal\", verbose)\n",
    "        # Set the mesh size\n",
    "        gmsh.option.setNumber(\"Mesh.CharacteristicLengthFactor\", 1.5*lmbda)\n",
    "\n",
    "\n",
    "        # Add scatterers\n",
    "        c1 = gmsh.model.occ.addCircle(0.0, -1.1*lmbda, 0.0, 0.8*lmbda)\n",
    "        gmsh.model.occ.addCurveLoop([c1], tag=c1)\n",
    "        gmsh.model.occ.addPlaneSurface([c1], tag=c1)\n",
    "\n",
    "        c2 = gmsh.model.occ.addCircle(0.0, 1.1*lmbda, 0.0, 0.8*lmbda)\n",
    "        gmsh.model.occ.addCurveLoop([c2], tag=c2)\n",
    "        gmsh.model.occ.addPlaneSurface([c2], tag=c2)\n",
    "\n",
    "        # Add domain\n",
    "        r0 = gmsh.model.occ.addRectangle(\n",
    "            -5*lmbda, -5*lmbda, 0.0, 10*lmbda, 10*lmbda)\n",
    "        inclusive_rectangle, _ = gmsh.model.occ.fragment(\n",
    "            [(2, r0)], [(2, c1), (2, c2)])\n",
    "\n",
    "        gmsh.model.occ.synchronize()\n",
    "\n",
    "        # Add physical groups\n",
    "        gmsh.model.addPhysicalGroup(2, [c1, c2], tag=1)\n",
    "        gmsh.model.addPhysicalGroup(2, [r0], tag=2)\n",
    "\n",
    "        # Generate mesh\n",
    "        gmsh.model.mesh.generate(2)\n",
    "        gmsh.model.mesh.setOrder(order)\n",
    "        gmsh.model.mesh.optimize(\"HighOrder\")\n",
    "        gmsh.write(filename)\n",
    "        \n",
    "        gmsh.finalize()"
   ]
  },
  {
   "cell_type": "code",
   "execution_count": 23,
   "id": "67fd0232-3094-45c3-bd11-6598fbc532bc",
   "metadata": {},
   "outputs": [
    {
     "name": "stdout",
     "output_type": "stream",
     "text": [
      "Info    : Reading 'domain.msh'...\n",
      "Info    : 15 entities\n",
      "Info    : 2985 nodes\n",
      "Info    : 1444 elements\n",
      "Info    : Done reading 'domain.msh'\n"
     ]
    }
   ],
   "source": [
    "# MPI communicator\n",
    "comm = MPI.COMM_WORLD\n",
    "\n",
    "file_name = \"domain.msh\"\n",
    "generate_mesh(file_name, lmbda, order=mesh_order)\n",
    "mesh, cell_tags, _ = gmshio.read_from_msh(file_name, comm,\n",
    "                                          rank=0, gdim=3)"
   ]
  },
  {
   "cell_type": "code",
   "execution_count": 24,
   "id": "eb91137e-8e94-4dbb-b9d3-1104962eb1c2",
   "metadata": {},
   "outputs": [],
   "source": [
    "# approximation space polynomial degree\n",
    "deg = 2\n",
    "\n",
    "# number of elements in each direction of msh\n",
    "n_elem = 64\n",
    "\n",
    "mesh = create_unit_square(MPI.COMM_SELF, n_elem, n_elem)\n",
    "n = ufl.FacetNormal(msh)"
   ]
  },
  {
   "cell_type": "code",
   "execution_count": 25,
   "id": "3af10d00-99b5-4f49-bbdf-f9df5c0460ae",
   "metadata": {},
   "outputs": [],
   "source": [
    "W = dolfinx.fem.FunctionSpace(mesh, (\"DG\", 0))\n",
    "k = dolfinx.fem.Function(W)\n",
    "k.x.array[:] = k0\n",
    "k.x.array[cell_tags.find(1)] = 3 * k0"
   ]
  },
  {
   "cell_type": "code",
   "execution_count": 26,
   "id": "d094f1f6-45da-400e-95f9-72eebed1e262",
   "metadata": {},
   "outputs": [],
   "source": [
    "import pyvista\n",
    "import matplotlib.pyplot as plt\n",
    "from dolfinx.plot import create_vtk_mesh\n",
    "pyvista.start_xvfb()\n",
    "pyvista.set_plot_theme(\"paraview\")\n",
    "sargs = dict(title_font_size=25, label_font_size=20, fmt=\"%.2e\", color=\"black\",\n",
    "             position_x=0.1, position_y=0.8, width=0.8, height=0.1)\n",
    "\n",
    "def export_function(grid, name, show_mesh=False, tessellate=False):\n",
    "    grid.set_active_scalars(name)\n",
    "    plotter = pyvista.Plotter(window_size=(700, 700))\n",
    "    t_grid = grid.tessellate() if tessellate else grid\n",
    "    renderer = plotter.add_mesh(t_grid, show_edges=False, scalar_bar_args=sargs)\n",
    "    if show_mesh:\n",
    "        V = dolfinx.fem.FunctionSpace(mesh, (\"Lagrange\", 1))\n",
    "        grid_mesh = pyvista.UnstructuredGrid(*create_vtk_mesh(V))\n",
    "        renderer = plotter.add_mesh(grid_mesh, style=\"wireframe\", line_width=0.1, color=\"k\")\n",
    "        plotter.view_xy()\n",
    "    plotter.view_xy()\n",
    "    plotter.camera.zoom(1.3)\n",
    "    plotter.export_html(f\"./{name}.html\", backend=\"pythreejs\")"
   ]
  },
  {
   "cell_type": "code",
   "execution_count": 27,
   "id": "5b788736-0cce-48f6-a4dd-79e7b861a416",
   "metadata": {},
   "outputs": [],
   "source": [
    "n = ufl.FacetNormal(mesh)\n",
    "x = ufl.SpatialCoordinate(mesh)\n",
    "uinc = ufl.exp(1j * k * x[0])\n",
    "g = ufl.dot(ufl.grad(uinc), n) - 1j * k * uinc"
   ]
  },
  {
   "cell_type": "code",
   "execution_count": 28,
   "id": "be9e55de-2876-4d9e-80d3-e05e7f552c18",
   "metadata": {},
   "outputs": [],
   "source": [
    "element = ufl.FiniteElement(\"Lagrange\", mesh.ufl_cell(), degree)\n",
    "V = dolfinx.fem.FunctionSpace(mesh, element)\n",
    "\n",
    "u = ufl.TrialFunction(V)\n",
    "v = ufl.TestFunction(V)"
   ]
  },
  {
   "cell_type": "code",
   "execution_count": 29,
   "id": "9ac91bdc-bc41-4377-9542-964beacf4b37",
   "metadata": {},
   "outputs": [],
   "source": [
    "a = - ufl.inner(ufl.grad(u), ufl.grad(v)) * ufl.dx \\\n",
    "    + k**2 * ufl.inner(u, v) * ufl.dx \\\n",
    "    - 1j * k * ufl.inner(u, v) * ufl.ds\n",
    "L = ufl.inner(g, v) * ufl.ds"
   ]
  },
  {
   "cell_type": "code",
   "execution_count": 30,
   "id": "cfe2b2d1-68a5-4cf7-84d7-6124f18c608f",
   "metadata": {},
   "outputs": [],
   "source": [
    "opt = {\"ksp_type\": \"preonly\", \"pc_type\": \"lu\"}\n",
    "problem = dolfinx.fem.petsc.LinearProblem(a, L, petsc_options=opt)\n",
    "uh = problem.solve()\n",
    "uh.name = \"u\""
   ]
  },
  {
   "cell_type": "code",
   "execution_count": 31,
   "id": "ef752bdd-4bf1-4f0e-aa46-ba54db548a3d",
   "metadata": {},
   "outputs": [],
   "source": [
    "topology, cells, geometry = create_vtk_mesh(V)\n",
    "grid = pyvista.UnstructuredGrid(topology, cells, geometry)\n",
    "grid.point_data[\"Abs(u)\"] = np.abs(uh.x.array)"
   ]
  },
  {
   "cell_type": "code",
   "execution_count": 32,
   "id": "0c3fb035-45d0-497b-97f5-18e626678c5b",
   "metadata": {},
   "outputs": [],
   "source": [
    "from dolfinx.io import XDMFFile, VTXWriter\n",
    "u_abs = dolfinx.fem.Function(V, dtype=np.float64)\n",
    "u_abs.x.array[:] = np.abs(uh.x.array)"
   ]
  },
  {
   "cell_type": "code",
   "execution_count": 33,
   "id": "bca47c4c-d3f8-46f0-98b0-2f4de45640eb",
   "metadata": {},
   "outputs": [],
   "source": [
    "# XDMF writes data to mesh nodes\n",
    "with XDMFFile(comm, \"out.xdmf\", \"w\") as file:\n",
    "    file.write_mesh(mesh)\n",
    "    file.write_function(u_abs)"
   ]
  },
  {
   "cell_type": "code",
   "execution_count": null,
   "id": "b8cb1fbe-3984-46d6-9c37-068210dcea2f",
   "metadata": {},
   "outputs": [],
   "source": []
  }
 ],
 "metadata": {
  "kernelspec": {
   "display_name": "Python 3 (DOLFINx complex)",
   "language": "python",
   "name": "python3-complex"
  },
  "language_info": {
   "codemirror_mode": {
    "name": "ipython",
    "version": 3
   },
   "file_extension": ".py",
   "mimetype": "text/x-python",
   "name": "python",
   "nbconvert_exporter": "python",
   "pygments_lexer": "ipython3",
   "version": "3.10.6"
  }
 },
 "nbformat": 4,
 "nbformat_minor": 5
}
