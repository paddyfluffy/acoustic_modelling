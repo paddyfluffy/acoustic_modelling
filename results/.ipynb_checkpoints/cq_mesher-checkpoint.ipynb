{
 "cells": [
  {
   "cell_type": "code",
   "execution_count": 5,
   "id": "94ded7db-8a26-4eaf-a965-4ffeae5d40a2",
   "metadata": {},
   "outputs": [
    {
     "name": "stdout",
     "output_type": "stream",
     "text": [
      "export\n"
     ]
    }
   ],
   "source": [
    "import cadquery as cq\n",
    "# from lib import *\n",
    "from random import *\n",
    "from math import *\n",
    "from perlin_noise import PerlinNoise\n",
    "\n",
    "width = 90\n",
    "height = 45\n",
    "\n",
    "size = 1.5\n",
    "min_extr = 3.0\n",
    "max_extr = 12.0\n",
    "\n",
    "\n",
    "noise = PerlinNoise(octaves=2, seed=1)\n",
    "\n",
    "\n",
    "def sin_norm(phase):\n",
    "    return sin(phase) * 0.5 + 0.5\n",
    "\n",
    "\n",
    "def dist(v1: cq.Vector, v2: cq.Vector):\n",
    "    return sqrt((v1.x - v2.x) ** 2 + (v1.y - v2.y) ** 2 + (v1.z - v2.z) ** 2)\n",
    "\n",
    "\n",
    "def angle(v1: cq.Vector, v2: cq.Vector):\n",
    "    return atan2(v1.y - v2.y, v1.x - v2.x)\n",
    "\n",
    "\n",
    "def extrude_wave(loc: cq.Vector):\n",
    "    center = cq.Vector(0.0, 0.0, 0.0)\n",
    "    d = dist(loc, center)\n",
    "    a = angle(loc, center)\n",
    "    extrude_depth = sin_norm(pow(d * 0.07, 4.0) + a * 2)\n",
    "    extrude_depth = extrude_depth * (max_extr - min_extr) + min_extr\n",
    "\n",
    "    return cq.Workplane(\"XY\", loc).rect(size, size).extrude(extrude_depth).val()\n",
    "\n",
    "\n",
    "def extrude_perlin(loc: cq.Vector):\n",
    "    perlin_factor = 0.03\n",
    "    p = noise((abs(loc.x) * perlin_factor, loc.y * perlin_factor)) + 0.5\n",
    "    extrude_depth = p * (max_extr - min_extr) + min_extr\n",
    "\n",
    "    return cq.Workplane(\"XY\", loc).rect(size, size).extrude(extrude_depth).val()\n",
    "\n",
    "\n",
    "sound_absorber = (\n",
    "    cq.Workplane(\"XY\")\n",
    "    .rarray(size, size, round(width / size), round(height / size))\n",
    "    .each(lambda vec: extrude_perlin(vec))\n",
    "    # .each(lambda vec: extrude_wave(vec))\n",
    ")\n",
    "\n",
    "\n",
    "print(\"export\")\n",
    "cq.exporters.export(sound_absorber, \"sound_absorber.stl\")"
   ]
  },
  {
   "cell_type": "code",
   "execution_count": null,
   "id": "4b3ca3a4-c180-4ded-85ab-f863d97cd8c0",
   "metadata": {},
   "outputs": [],
   "source": []
  }
 ],
 "metadata": {
  "kernelspec": {
   "display_name": "Python 3 (DOLFINx complex)",
   "language": "python",
   "name": "python3-complex"
  },
  "language_info": {
   "codemirror_mode": {
    "name": "ipython",
    "version": 3
   },
   "file_extension": ".py",
   "mimetype": "text/x-python",
   "name": "python",
   "nbconvert_exporter": "python",
   "pygments_lexer": "ipython3",
   "version": "3.10.6"
  }
 },
 "nbformat": 4,
 "nbformat_minor": 5
}
