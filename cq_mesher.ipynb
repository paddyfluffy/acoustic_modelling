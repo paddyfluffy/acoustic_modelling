{
 "cells": [
  {
   "cell_type": "code",
   "execution_count": 14,
   "id": "94ded7db-8a26-4eaf-a965-4ffeae5d40a2",
   "metadata": {},
   "outputs": [
    {
     "name": "stdout",
     "output_type": "stream",
     "text": [
      "exporting...\n",
      "exported\n"
     ]
    }
   ],
   "source": [
    "import cadquery as cq\n",
    "# from lib import *\n",
    "from random import *\n",
    "from math import *\n",
    "from perlin_noise import PerlinNoise\n",
    "\n",
    "width = 90\n",
    "height = 45\n",
    "\n",
    "size = 1.5\n",
    "min_extr = 3.0\n",
    "max_extr = 12.0\n",
    "\n",
    "\n",
    "noise = PerlinNoise(octaves=2, seed=1)\n",
    "\n",
    "\n",
    "def sin_norm(phase):\n",
    "    return sin(phase) * 0.5 + 0.5\n",
    "\n",
    "\n",
    "def dist(v1: cq.Vector, v2: cq.Vector):\n",
    "    return sqrt((v1.x - v2.x) ** 2 + (v1.y - v2.y) ** 2 + (v1.z - v2.z) ** 2)\n",
    "\n",
    "\n",
    "def angle(v1: cq.Vector, v2: cq.Vector):\n",
    "    return atan2(v1.y - v2.y, v1.x - v2.x)\n",
    "\n",
    "\n",
    "def extrude_wave(loc: cq.Vector):\n",
    "    center = cq.Vector(0.0, 0.0, 0.0)\n",
    "    d = dist(loc, center)\n",
    "    a = angle(loc, center)\n",
    "    extrude_depth = sin_norm(pow(d * 0.07, 4.0) + a * 2)\n",
    "    extrude_depth = extrude_depth * (max_extr - min_extr) + min_extr\n",
    "\n",
    "    return cq.Workplane(\"XY\", loc).rect(size, size).extrude(extrude_depth).val()\n",
    "\n",
    "\n",
    "def extrude_perlin(loc: cq.Vector):\n",
    "    perlin_factor = 0.03\n",
    "    p = noise((abs(loc.x) * perlin_factor, loc.y * perlin_factor)) + 0.5\n",
    "    extrude_depth = p * (max_extr - min_extr) + min_extr\n",
    "\n",
    "    return cq.Workplane(\"XY\", loc).rect(size, size).extrude(extrude_depth).val()\n",
    "\n",
    "\n",
    "sound_absorber = (\n",
    "    cq.Workplane(\"XY\")\n",
    "    .rarray(size, size, round(width / size), round(height / size))\n",
    "    .each(lambda vec: extrude_perlin(vec))\n",
    "    # .each(lambda vec: extrude_wave(vec))\n",
    ")\n",
    "\n",
    "\n",
    "print(\"exporting...\")\n",
    "cq.exporters.export(sound_absorber, \"sound_absorber.stl\")\n",
    "print(\"exported\")"
   ]
  },
  {
   "cell_type": "code",
   "execution_count": 41,
   "id": "4b3ca3a4-c180-4ded-85ab-f863d97cd8c0",
   "metadata": {},
   "outputs": [
    {
     "name": "stdout",
     "output_type": "stream",
     "text": [
      "\u001b[32;1m\n",
      "*******************************************************************\n",
      "******        Statistics on Transfer (Write)                 ******\u001b[0m\n",
      "\u001b[32;1m\n",
      "*******************************************************************\n",
      "******        Transfer Mode = 0  I.E.  As Is       ******\u001b[0m\n",
      "\u001b[32;1m******        Transferring Shape, ShapeType = 0                      ******\u001b[0m\n",
      "\u001b[32;1m** WorkSession : Sending all data\u001b[0m\n",
      "\u001b[32;1m Step File Name : results/box.step(350 ents)  Write  Done\u001b[0m\n"
     ]
    }
   ],
   "source": [
    "import cadquery as cq\n",
    "import os\n",
    "\n",
    "#Create a box geometry\n",
    "length = 1.5\n",
    "width = 1.0\n",
    "height = 0.8\n",
    "box = cq.Workplane(\"XY\").box(length, width, height)\n",
    "step_filename = \"box.step\"\n",
    "path = os.path.join(\"results\", step_filename)\n",
    "cq.exporters.export(box, path)"
   ]
  },
  {
   "cell_type": "code",
   "execution_count": 36,
   "id": "fb7a1d42-af28-4faf-81df-38c77c5417ea",
   "metadata": {},
   "outputs": [
    {
     "name": "stderr",
     "output_type": "stream",
     "text": [
      "Warning : Gmsh has aleady been initialized\n"
     ]
    }
   ],
   "source": [
    "import gmsh\n",
    "gmsh.initialize()"
   ]
  },
  {
   "cell_type": "code",
   "execution_count": 26,
   "id": "50a662a1-d4f2-45d2-b17c-0f4c09e3dd3e",
   "metadata": {},
   "outputs": [
    {
     "name": "stdout",
     "output_type": "stream",
     "text": [
      "Info    : Reading 'results/box.stl'...\n",
      "Info    : Mesh is in binary format\n",
      "Info    : 12 facets in solid 0 STL Exported by Open CASCADE Technology [dev.opencascade.org]\n",
      "Info    : Done reading 'results/box.stl'\n",
      "Info    : Meshing 1D...\n",
      "Info    : Done meshing 1D (Wall 8.335e-06s, CPU 6.8e-05s)\n",
      "Info    : Meshing 2D...\n",
      "Info    : Done meshing 2D (Wall 2.0864e-05s, CPU 1.3e-05s)\n",
      "Info    : Meshing 3D...\n",
      "Info    : Done meshing 3D (Wall 1.2646e-05s, CPU 8e-06s)\n",
      "Info    : 8 nodes 12 elements\n"
     ]
    },
    {
     "name": "stderr",
     "output_type": "stream",
     "text": [
      "Warning : Gmsh has aleady been initialized\n"
     ]
    },
    {
     "ename": "AttributeError",
     "evalue": "type object 'mesh' has no attribute 'getEntities'",
     "output_type": "error",
     "traceback": [
      "\u001b[0;31m---------------------------------------------------------------------------\u001b[0m",
      "\u001b[0;31mAttributeError\u001b[0m                            Traceback (most recent call last)",
      "Cell \u001b[0;32mIn[26], line 16\u001b[0m\n\u001b[1;32m     13\u001b[0m gmsh\u001b[38;5;241m.\u001b[39mmodel\u001b[38;5;241m.\u001b[39mmesh\u001b[38;5;241m.\u001b[39mgenerate(\u001b[38;5;241m3\u001b[39m)\n\u001b[1;32m     15\u001b[0m \u001b[38;5;66;03m# Get the mesh entities\u001b[39;00m\n\u001b[0;32m---> 16\u001b[0m mesh \u001b[38;5;241m=\u001b[39m \u001b[43mgmsh\u001b[49m\u001b[38;5;241;43m.\u001b[39;49m\u001b[43mmodel\u001b[49m\u001b[38;5;241;43m.\u001b[39;49m\u001b[43mmesh\u001b[49m\u001b[38;5;241;43m.\u001b[39;49m\u001b[43mgetEntities\u001b[49m()\n\u001b[1;32m     18\u001b[0m \u001b[38;5;66;03m# Add physical groups to the mesh entities\u001b[39;00m\n\u001b[1;32m     19\u001b[0m gmsh\u001b[38;5;241m.\u001b[39mmodel\u001b[38;5;241m.\u001b[39maddPhysicalGroup(\u001b[38;5;241m2\u001b[39m, [ent[\u001b[38;5;241m1\u001b[39m] \u001b[38;5;28;01mfor\u001b[39;00m ent \u001b[38;5;129;01min\u001b[39;00m mesh \u001b[38;5;28;01mif\u001b[39;00m ent[\u001b[38;5;241m0\u001b[39m] \u001b[38;5;241m==\u001b[39m \u001b[38;5;241m2\u001b[39m], label\u001b[38;5;241m=\u001b[39m\u001b[38;5;241m1\u001b[39m)  \u001b[38;5;66;03m# Surface physical group\u001b[39;00m\n",
      "\u001b[0;31mAttributeError\u001b[0m: type object 'mesh' has no attribute 'getEntities'"
     ]
    }
   ],
   "source": [
    "import gmsh\n",
    "\n",
    "# Initialize Gmsh\n",
    "gmsh.initialize()\n",
    "\n",
    "# Create a new model\n",
    "gmsh.model.add(\"MyModel\")\n",
    "\n",
    "# Load the STL file\n",
    "gmsh.merge(path)\n",
    "\n",
    "# Synchronize the model\n",
    "gmsh.model.mesh.generate(3)\n",
    "\n",
    "# Get the mesh entities\n",
    "mesh = gmsh.model.mesh.getEntities()\n",
    "\n",
    "# Add physical groups to the mesh entities\n",
    "gmsh.model.addPhysicalGroup(2, [ent[1] for ent in mesh if ent[0] == 2], label=1)  # Surface physical group\n",
    "gmsh.model.addPhysicalGroup(3, [ent[1] for ent in mesh if ent[0] == 3], label=1)  # Volume physical group\n",
    "\n",
    "# Define a volume from the surface entities\n",
    "gmsh.model.addVolume([1], tag=1)\n",
    "\n",
    "# Save the mesh\n",
    "gmsh.write(\"test_mesh.msh\")\n",
    "\n",
    "# Finalize Gmsh\n",
    "gmsh.finalize()\n"
   ]
  },
  {
   "cell_type": "code",
   "execution_count": 34,
   "id": "c3953440-83c6-4b59-8506-d0d533205413",
   "metadata": {},
   "outputs": [
    {
     "ename": "AttributeError",
     "evalue": "module 'dolfinx.io.gmshio' has no attribute 'read_msh'",
     "output_type": "error",
     "traceback": [
      "\u001b[0;31m---------------------------------------------------------------------------\u001b[0m",
      "\u001b[0;31mAttributeError\u001b[0m                            Traceback (most recent call last)",
      "Cell \u001b[0;32mIn[35], line 8\u001b[0m\n\u001b[1;32m      4\u001b[0m \u001b[38;5;28;01mfrom\u001b[39;00m \u001b[38;5;21;01mmpi4py\u001b[39;00m \u001b[38;5;28;01mimport\u001b[39;00m MPI\n\u001b[1;32m      6\u001b[0m \u001b[38;5;66;03m# Load the mesh using Dolfinx\u001b[39;00m\n\u001b[1;32m      7\u001b[0m \u001b[38;5;66;03m# mesh, cell_tags, facet_tags = gmshio.read_from_mesh(path, comm=MPI.COMM_WORLD)\u001b[39;00m\n\u001b[0;32m----> 8\u001b[0m mesh, cell_tags, facet_tags \u001b[38;5;241m=\u001b[39m \u001b[43mgmshio\u001b[49m\u001b[38;5;241;43m.\u001b[39;49m\u001b[43mread_msh\u001b[49m(\u001b[38;5;124m\"\u001b[39m\u001b[38;5;124mresults/\u001b[39m\u001b[38;5;124m\"\u001b[39m \u001b[38;5;241m+\u001b[39m\u001b[38;5;124m\"\u001b[39m\u001b[38;5;124mroom_mesh_test.msh\u001b[39m\u001b[38;5;124m\"\u001b[39m, MPI\u001b[38;5;241m.\u001b[39mCOMM_WORLD)\n\u001b[1;32m     10\u001b[0m \u001b[38;5;66;03m# Access the mesh entities\u001b[39;00m\n\u001b[1;32m     11\u001b[0m cells \u001b[38;5;241m=\u001b[39m mesh\u001b[38;5;241m.\u001b[39mcells\n",
      "\u001b[0;31mAttributeError\u001b[0m: module 'dolfinx.io.gmshio' has no attribute 'read_msh'"
     ]
    }
   ],
   "source": [
    "import dolfinx\n",
    "from dolfinx.io import gmshio\n",
    "import gmsh\n",
    "from mpi4py import MPI\n",
    "\n",
    "# Load the mesh using Dolfinx\n",
    "# mesh, cell_tags, facet_tags = gmshio.read_from_mesh(path, comm=MPI.COMM_WORLD)\n",
    "mesh, cell_tags, facet_tags = gmshio.read_from_msh(\"results/\" +\"room_mesh_test.msh\", MPI.COMM_WORLD)\n",
    "\n",
    "# Access the mesh entities\n",
    "cells = mesh.cells\n",
    "facets = mesh.facets\n",
    "\n",
    "# Add physical groups to the mesh entities\n",
    "mesh.topology.create_connectivity(cells.dim, facets.dim)\n",
    "gmsh.add_physical_group(mesh, cells.dim, [i for i in range(cells.shape[0])], label=1)  # Volume physical group\n",
    "gmsh.add_physical_group(mesh, facets.dim, [i for i in range(facets.shape[0])], label=1)  # Surface physical group\n",
    "\n",
    "# Define a volume from the surface entities\n",
    "gmsh.add_volume(mesh, [1], tag=1)\n",
    "\n",
    "# Save the modified mesh\n",
    "gmsh.write_mesh(\"path_to_output_mesh.msh\", mesh, cell_tags, facet_tags)\n"
   ]
  },
  {
   "cell_type": "code",
   "execution_count": 56,
   "id": "0a2abcd4-ef46-4696-88a0-dc356d3db87f",
   "metadata": {},
   "outputs": [],
   "source": [
    "# Choose if Gmsh output is verbose\n",
    "gmsh.option.setNumber(\"General.Terminal\", 0)\n",
    "\n",
    "model = gmsh.model()\n",
    "model.add(\"room\")\n",
    "model.setCurrent(\"room\")\n",
    "stl_path = os.path.join(\"results\", \"box.step\")\n",
    "room = gmsh.model.occ.importShapes(stl_path, highestDimOnly=False)\n",
    "\n",
    "\n",
    "\n",
    "# Synchronize OpenCascade representation with gmsh model\n",
    "model.occ.synchronize()\n",
    "\n",
    "\n",
    "\n",
    "# Add physical marker for cells. It is important to call this function\n",
    "# after OpenCascade synchronization\n",
    "\n",
    "# Generate the mesh\n",
    "model.mesh.generate(dim=3)\n",
    "# model.add_physical_group(dim=3, tags=room)\n",
    "model.addPhysicalGroup(3, [1])\n",
    "\n",
    "# Create a DOLFINx mesh (same mesh on each rank)\n",
    "msh, cell_markers, facet_markers = gmshio.model_to_mesh(model, MPI.COMM_SELF, 0)\n",
    "msh.name = \"room\"\n",
    "cell_markers.name = f\"{msh.name}_cells\"\n",
    "facet_markers.name = f\"{msh.name}_facets\"\n",
    "\n",
    "\n",
    "\n",
    "\n"
   ]
  },
  {
   "cell_type": "code",
   "execution_count": 17,
   "id": "019f3a21-c7a3-4c4a-8dfd-79f1575cabc3",
   "metadata": {},
   "outputs": [
    {
     "name": "stdout",
     "output_type": "stream",
     "text": [
      "Info    : Meshing 1D...\n",
      "Info    : Done meshing 1D (Wall 6.434e-06s, CPU 1e-05s)\n",
      "Info    : Meshing 2D...\n",
      "Info    : Done meshing 2D (Wall 4.669e-06s, CPU 3e-06s)\n",
      "Info    : Meshing 3D...\n",
      "Info    : Done meshing 3D (Wall 1.1898e-05s, CPU 7e-06s)\n",
      "Info    : 0 nodes 0 elements\n",
      "Info    : Writing 'results/cq_box.msh'...\n",
      "Info    : Done writing 'results/cq_box.msh'\n"
     ]
    }
   ],
   "source": [
    "characteristic_length = 0.0017  # Desired mesh size\n",
    "gmsh.model.mesh.setSize(gmsh.model.getEntities(3), characteristic_length)\n",
    "\n",
    "gmsh.model.addPhysicalGroup(1, [line])\n",
    "\n",
    "# Generate the mesh\n",
    "gmsh.model.mesh.generate()\n",
    "\n",
    "gmsh.write(os.path.join(\"results\",\"cq_box.msh\"))\n",
    "\n",
    "# Finalize Gmsh\n",
    "gmsh.finalize()\n"
   ]
  }
 ],
 "metadata": {
  "kernelspec": {
   "display_name": "Python 3 (DOLFINx complex)",
   "language": "python",
   "name": "python3-complex"
  },
  "language_info": {
   "codemirror_mode": {
    "name": "ipython",
    "version": 3
   },
   "file_extension": ".py",
   "mimetype": "text/x-python",
   "name": "python",
   "nbconvert_exporter": "python",
   "pygments_lexer": "ipython3",
   "version": "3.10.6"
  }
 },
 "nbformat": 4,
 "nbformat_minor": 5
}
