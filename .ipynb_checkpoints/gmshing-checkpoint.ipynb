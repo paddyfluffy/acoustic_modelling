{
 "cells": [
  {
   "cell_type": "code",
   "execution_count": 1,
   "id": "4744b660-1912-44d3-90f0-2b9bbc8c558d",
   "metadata": {},
   "outputs": [],
   "source": [
    "import sys\n",
    "\n",
    "try:\n",
    "    import gmsh\n",
    "except ImportError:\n",
    "    print(\"This demo requires gmsh to be installed\")\n",
    "    sys.exit(0)\n",
    "\n",
    "\n",
    "from dolfinx.io import XDMFFile, gmshio\n",
    "\n",
    "from mpi4py import MPI\n",
    "\n",
    "gmsh.initialize()"
   ]
  },
  {
   "cell_type": "code",
   "execution_count": null,
   "id": "c2e5e028-4574-444d-bd4a-c41bfade741c",
   "metadata": {},
   "outputs": [],
   "source": [
    "gmsh.initialize()\n",
    "gmsh.option.setNumber(\"General.Terminal\", 1)\n",
    "gmsh.option.setNumber(\"Mesh.Algorithm\", 8);\n",
    "gmsh.option.setNumber(\"Mesh.CharacteristicLengthMin\", 1);\n",
    "gmsh.option.setNumber(\"Mesh.CharacteristicLengthMax\", 2);\n",
    "gmsh.option.setNumber(\"Mesh.Optimize\",1)\n",
    "gmsh.option.setNumber(\"Mesh.QualityType\",2);\n",
    "\n",
    "gmsh.merge(\"very_round.stl\")\n",
    "n = gmsh.model.getDimension()\n",
    "s = gmsh.model.getEntities(n)\n",
    "l = gmsh.model.geo.addSurfaceLoop([s[i][1] for i in range(len(s))])\n",
    "gmsh.model.geo.addVolume([l])\n",
    "print(\"Volume added\")\n",
    "gmsh.model.geo.synchronize()\n",
    "\n",
    "gmsh.model.mesh.generate(3)\n",
    "gmsh.write(\"very_round.msh\")\n",
    "gmsh.finalize()\n",
    "\n",
    "print(\"mesh exported\")"
   ]
  },
  {
   "cell_type": "code",
   "execution_count": null,
   "id": "f476312a-72f7-4405-bc26-ed5de4f3d1eb",
   "metadata": {},
   "outputs": [],
   "source": []
  }
 ],
 "metadata": {
  "kernelspec": {
   "display_name": "Python 3 (DOLFINx complex)",
   "language": "python",
   "name": "python3-complex"
  },
  "language_info": {
   "codemirror_mode": {
    "name": "ipython",
    "version": 3
   },
   "file_extension": ".py",
   "mimetype": "text/x-python",
   "name": "python",
   "nbconvert_exporter": "python",
   "pygments_lexer": "ipython3",
   "version": "3.10.6"
  }
 },
 "nbformat": 4,
 "nbformat_minor": 5
}
